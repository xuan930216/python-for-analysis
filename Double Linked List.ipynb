{
 "cells": [
  {
   "cell_type": "code",
   "execution_count": 53,
   "metadata": {},
   "outputs": [],
   "source": [
    "class Node:\n",
    "    def __init__(self, value):\n",
    "        self.data = value\n",
    "        self.next = None\n",
    "        self.prev = None"
   ]
  },
  {
   "cell_type": "code",
   "execution_count": 57,
   "metadata": {},
   "outputs": [],
   "source": [
    "class DoubleLinkedList:\n",
    "    def __init__(self):\n",
    "        self.head = None\n",
    "    #add at the end\n",
    "    def append(self, value):\n",
    "        if self.head != None:\n",
    "            new_node = Node(value)\n",
    "            current = self.head\n",
    "            while current.next:\n",
    "                current = current.next\n",
    "            current.next = new_node\n",
    "            new_node.prev = current\n",
    "        else:\n",
    "            self.head = Node(value)\n",
    "    #add at the infront\n",
    "    def preappend(self,value):\n",
    "        new_node = Node(value)\n",
    "        if self.head != None:\n",
    "            self.head.prev = new_node\n",
    "            new_node.next = self.head\n",
    "            self.head = new_node\n",
    "        else:\n",
    "            self.head = new_node\n",
    "    def add_after_node(self, key, data):\n",
    "        cur = self.head\n",
    "        while cur:\n",
    "            if cur.next == None and cur.data == key:\n",
    "                self.append(data)\n",
    "                return\n",
    "            elif cur.data == key:\n",
    "                new_node = Node(data)\n",
    "                new_node.next = cur.next\n",
    "                cur.next.prev = new_node\n",
    "                cur.next = new_node\n",
    "                new_node.prev = cur\n",
    "            cur = cur.next\n",
    "                \n",
    "                    \n",
    "    def add_before_node(self, key, data):\n",
    "        cur = self.head\n",
    "        while cur:\n",
    "            if cur.prev == None and cur.data == key:\n",
    "                self.preappend(data)\n",
    "                return\n",
    "            elif cur.data == key:\n",
    "                new_node = Node(data)\n",
    "                cur.prev.next = new_node\n",
    "                new_node.prev = cur.prev\n",
    "                new_node.next = cur\n",
    "                cur.prev = new_node\n",
    "            cur = cur.next\n",
    "    def delete(self, key):\n",
    "        current = self.head\n",
    "        while current:\n",
    "            if current == self.head and current.data == key:\n",
    "                #case one\n",
    "                if current.next == None:\n",
    "                    current = None\n",
    "                    self.head = None\n",
    "                    return\n",
    "                #case two\n",
    "                else:\n",
    "                    current.next.prev = None\n",
    "                    self.head = current.next\n",
    "                    current.next = None\n",
    "                    current = None\n",
    "                    return\n",
    "            elif current.data == key:\n",
    "                #case 3\n",
    "                if current.next != None:\n",
    "                    nxt = current.next\n",
    "                    pre = current.prev\n",
    "                    pre.next = nxt\n",
    "                    nxt.prev = pre\n",
    "                    current.next = None\n",
    "                    current.prev = None\n",
    "                    current = None\n",
    "                    return\n",
    "                #case 4\n",
    "                else:\n",
    "                    pre = current.prev\n",
    "                    pre.next = None\n",
    "                    current.prev = None\n",
    "                    current = None   \n",
    "                    return\n",
    "            current = current.next\n",
    "    def reverse(self):\n",
    "        current = self.head\n",
    "        while current:\n",
    "            temp = current.prev\n",
    "            current.prev = current.next\n",
    "            current.next = temp\n",
    "            current = current.prev\n",
    "        if temp:\n",
    "            self.head = temp.prev\n",
    "    def print_list(self):\n",
    "        curr = self.head\n",
    "        while curr:\n",
    "            print(curr.data)\n",
    "            curr = curr.next"
   ]
  },
  {
   "cell_type": "code",
   "execution_count": 58,
   "metadata": {},
   "outputs": [],
   "source": [
    "dllist = DoubleLinkedList()\n",
    "dllist.append(1)\n",
    "dllist.append(2)\n",
    "dllist.append(3)\n",
    "dllist.append(4)\n",
    "dllist.preappend(0)\n",
    "dllist.add_after_node(1,11)\n",
    "dllist.add_before_node(11,5)\n",
    "dllist.delete(5)\n",
    "dllist.delete(4)\n",
    "dllist.delete(0)"
   ]
  },
  {
   "cell_type": "code",
   "execution_count": 59,
   "metadata": {},
   "outputs": [
    {
     "name": "stdout",
     "output_type": "stream",
     "text": [
      "1\n",
      "11\n",
      "2\n",
      "3\n"
     ]
    }
   ],
   "source": [
    "dllist.print_list()"
   ]
  },
  {
   "cell_type": "code",
   "execution_count": 61,
   "metadata": {},
   "outputs": [
    {
     "name": "stdout",
     "output_type": "stream",
     "text": [
      "3\n",
      "2\n",
      "11\n",
      "1\n"
     ]
    }
   ],
   "source": [
    "dllist.reverse()\n",
    "dllist.print_list()"
   ]
  },
  {
   "cell_type": "code",
   "execution_count": null,
   "metadata": {},
   "outputs": [],
   "source": []
  }
 ],
 "metadata": {
  "kernelspec": {
   "display_name": "Python 3",
   "language": "python",
   "name": "python3"
  },
  "language_info": {
   "codemirror_mode": {
    "name": "ipython",
    "version": 3
   },
   "file_extension": ".py",
   "mimetype": "text/x-python",
   "name": "python",
   "nbconvert_exporter": "python",
   "pygments_lexer": "ipython3",
   "version": "3.6.5"
  }
 },
 "nbformat": 4,
 "nbformat_minor": 2
}
