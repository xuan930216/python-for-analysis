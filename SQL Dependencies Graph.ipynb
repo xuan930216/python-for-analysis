{
 "cells": [
  {
   "cell_type": "code",
   "execution_count": 6,
   "metadata": {},
   "outputs": [
    {
     "name": "stdout",
     "output_type": "stream",
     "text": [
      "data/ga consumes 82929 bytes in 30\n"
     ]
    }
   ],
   "source": [
    "#Use os.walk to traverse a folder\n",
    "import os\n",
    "from os.path import join, getsize\n",
    "\n",
    "def pywalker(path):\n",
    "    for dirpath, dirname, filenames in os.walk(path):\n",
    "        print(dirpath, \"consumes\", end=\" \")\n",
    "        print(sum(getsize(join(dirpath, file)) for file in filenames), end=\" \")\n",
    "        print(\"bytes in\", len(filenames))\n",
    "pywalker('data/ga')"
   ]
  },
  {
   "cell_type": "code",
   "execution_count": 1,
   "metadata": {},
   "outputs": [
    {
     "name": "stdout",
     "output_type": "stream",
     "text": [
      "[]\n",
      "['data/ga/o2o_journeys_30d.sql', 'data/ga/order_journeys.sql', 'data/ga/cn_cid.sql', 'data/ga/blue_pages.sql', 'data/ga/sessions_bp.sql', 'data/ga/model_first_click.sql', 'data/ga/model_linear14d_blue_pages.sql', 'data/ga/mobile_advertising.sql', 'data/ga/order_journeys_30d_filtered.sql', 'data/ga/session_pageviews.sql', 'data/ga/model_markov_2.sql', 'data/ga/confirmation_pages.sql', 'data/ga/model_40_20_40.sql', 'data/ga/model_markov_1.sql', 'data/ga/model_40_20_40_campaign.sql', 'data/ga/cn_cookies.sql', 'data/ga/cn_onesignal.sql', 'data/ga/model_last_click.sql', 'data/ga/model_40_20_40_landing_page.sql', 'data/ga/dx_cookies.sql', 'data/ga/model_last_click_landing_page.sql', 'data/ga/cn_cookies_enriched.sql', 'data/ga/order_number_journeys.sql', 'data/ga/ranked_orders.sql', 'data/ga/sessions.sql', 'data/ga/cid_mapping.sql', 'data/ga/order_journeys_30d_enriched.sql', 'data/ga/daily_visits.sql', 'data/ga/landing_pages.sql', 'data/ga/order_journeys_30d.sql']\n"
     ]
    }
   ],
   "source": [
    "#traverse folders using os.scandir, which returns an iterator of os.DirEntry object\n",
    "import os\n",
    "\n",
    "folders = []\n",
    "files = []\n",
    "\n",
    "def pywalker(path):\n",
    "    for entry in os.scandir(path):\n",
    "        if entry.is_dir():\n",
    "            folders.append(entry.path)\n",
    "        elif entry.is_file():\n",
    "            files.append(entry.path)\n",
    "    print(folders)\n",
    "    print(files)\n",
    "pywalker('data/ga')"
   ]
  },
  {
   "cell_type": "code",
   "execution_count": null,
   "metadata": {},
   "outputs": [],
   "source": []
  }
 ],
 "metadata": {
  "kernelspec": {
   "display_name": "Python 3",
   "language": "python",
   "name": "python3"
  },
  "language_info": {
   "codemirror_mode": {
    "name": "ipython",
    "version": 3
   },
   "file_extension": ".py",
   "mimetype": "text/x-python",
   "name": "python",
   "nbconvert_exporter": "python",
   "pygments_lexer": "ipython3",
   "version": "3.6.5"
  }
 },
 "nbformat": 4,
 "nbformat_minor": 2
}
