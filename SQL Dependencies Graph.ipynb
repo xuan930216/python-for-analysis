{
 "cells": [
  {
   "cell_type": "code",
   "execution_count": 5,
   "metadata": {},
   "outputs": [
    {
     "name": "stdout",
     "output_type": "stream",
     "text": [
      "data/ga consumes 82929 bytes in 30\n"
     ]
    }
   ],
   "source": [
    "#Use os.walk to traverse a folder\n",
    "import os\n",
    "from os.path import join, getsize\n",
    "\n",
    "def pywalker(path):\n",
    "    for dirpath, dirname, filenames in os.walk(path):\n",
    "        print(dirpath, \"consumes\", end=\" \")\n",
    "        print(sum(getsize(join(dirpath, file)) for file in filenames), end=\" \")\n",
    "        print(\"bytes in\", len(filenames))\n",
    "pywalker('data/ga')"
   ]
  },
  {
   "cell_type": "code",
   "execution_count": 3,
   "metadata": {},
   "outputs": [
    {
     "name": "stdout",
     "output_type": "stream",
     "text": [
      "[]\n",
      "['data/ga/o2o_journeys_30d.sql', 'data/ga/order_journeys.sql', 'data/ga/cn_cid.sql', 'data/ga/blue_pages.sql', 'data/ga/sessions_bp.sql', 'data/ga/model_first_click.sql', 'data/ga/model_linear14d_blue_pages.sql', 'data/ga/mobile_advertising.sql', 'data/ga/order_journeys_30d_filtered.sql', 'data/ga/session_pageviews.sql', 'data/ga/model_markov_2.sql', 'data/ga/confirmation_pages.sql', 'data/ga/model_40_20_40.sql', 'data/ga/model_markov_1.sql', 'data/ga/model_40_20_40_campaign.sql', 'data/ga/cn_cookies.sql', 'data/ga/cn_onesignal.sql', 'data/ga/model_last_click.sql', 'data/ga/model_40_20_40_landing_page.sql', 'data/ga/dx_cookies.sql', 'data/ga/model_last_click_landing_page.sql', 'data/ga/cn_cookies_enriched.sql', 'data/ga/order_number_journeys.sql', 'data/ga/ranked_orders.sql', 'data/ga/sessions.sql', 'data/ga/cid_mapping.sql', 'data/ga/order_journeys_30d_enriched.sql', 'data/ga/daily_visits.sql', 'data/ga/landing_pages.sql', 'data/ga/order_journeys_30d.sql']\n"
     ]
    }
   ],
   "source": [
    "#traverse folders using os.scandir, which returns an iterator of os.DirEntry object, which has attribute - name,path\n",
    "#is_dir, is_file\n",
    "import os\n",
    "\n",
    "folders = []\n",
    "files = []\n",
    "\n",
    "def pywalker(path):\n",
    "    for entry in os.scandir(path):\n",
    "        if entry.is_dir():\n",
    "            folders.append(entry.path)\n",
    "        elif entry.is_file():\n",
    "            files.append(entry.path)\n",
    "    print(folders)\n",
    "    print(files)\n",
    "pywalker('data/ga')"
   ]
  },
  {
   "cell_type": "code",
   "execution_count": 13,
   "metadata": {},
   "outputs": [
    {
     "name": "stdout",
     "output_type": "stream",
     "text": [
      "found word:cat\n"
     ]
    }
   ],
   "source": [
    "#regular expression is a powerful language for matching pattern in text\n",
    "#match = re.search(pat, str)\n",
    "#re.search() scan through the string looking for the first location where the regular expression pattern produces a match\n",
    "#and return a corresponding match object, return None if no any matches\n",
    "#match.group return one or more subgroup\n",
    "import re\n",
    "str = \"an example word:cat1!\"\n",
    "match = re.search(r'word:\\w\\w\\w', str)\n",
    "if match:\n",
    "    print(\"found\", match.group())\n",
    "else:\n",
    "    print(\"did not find\")"
   ]
  },
  {
   "cell_type": "code",
   "execution_count": 20,
   "metadata": {},
   "outputs": [
    {
     "name": "stdout",
     "output_type": "stream",
     "text": [
      "[{'name': 'order_journeys_30d', 'sql': 'WITH journeys AS (\\n    SELECT\\n        j.account account,\\n        j.type,\\n        j.orderId orderId,\\n        j.orderNumber orderNumber,\\n        j.visitId AS `visitId`,\\n        j.fullVisitorId fullVisitorId,\\n        v.pageviews,\\n        v.campaign,\\n        v.source,\\n        v.medium,\\n        v.keyword,\\n        v.adContent,\\n        v.visitStartTime,\\n        v.visitId AS `visitId2`,\\n        v.channel,\\n        v.aeroCampaignId,\\n        v.aeroAdId,\\n        v.landingPagePath,\\n        v.dxgaid,\\n        v.bluePages,\\n        RANK() OVER (PARTITION BY j.account, j.orderId ORDER BY v.visitNumber ASC) visitNumber,\\n        RANK() OVER (PARTITION BY j.account, j.orderId ORDER BY v.visitNumber DESC) visitNumberDesc\\n    FROM\\n        ga.order_journeys j,\\n        UNNEST(j.visits) v,\\n        lx.orders o\\n    WHERE\\n        (o.account, o.orderId) = (j.account, j.orderId)\\n        AND TIMESTAMP_SECONDS(v.visitStartTime) > timestamp_sub(o.createdAt, INTERVAL 30 DAY)\\n        AND v.pageviews > 0\\n)\\nSELECT\\n    j.account AS `account`,\\n    j.type AS `type`,\\n    j.orderId AS `orderId`,\\n    j.orderNumber AS `orderNumber`,\\n    j.visitId AS `visitId`,\\n    j.fullVisitorId AS `fullVisitorId`,\\n    ARRAY_AGG(STRUCT(\\n        j.visitNumber AS `visitNumber`,\\n        j.visitNumberDesc AS `visitNumberDesc`,\\n        j.pageviews AS `pageviews`,\\n        j.campaign AS `campaign`,\\n        j.source AS `source`,\\n        j.medium AS `medium`,\\n        j.keyword AS `keyword`,\\n        j.adContent AS `adContent`,\\n        j.visitStartTime AS `visitStartTime`,\\n        j.visitId2 AS `visitId`,\\n        j.channel AS `channel`,\\n        j.aeroCampaignId AS `aeroCampaignId`,\\n        j.aeroAdId AS `aeroAdId`,\\n        j.landingPagePath AS `landingPagePath`,\\n        j.dxgaid AS `dxgaid`,\\n        j.bluePages AS `bluePages`\\n    )) AS `visits`\\nFROM\\n    journeys j\\n\\nGROUP BY 1, 2, 3, 4, 5, 6'}]\n"
     ]
    }
   ],
   "source": [
    "#traverse folder to extract sql and metadata\n",
    "import re\n",
    "\n",
    "node_info_dic = {}\n",
    "nodes = []\n",
    "sql_list = []\n",
    "\n",
    "def get_sql_list(path):\n",
    "    for entry in os.scandir(path):\n",
    "        if entry.is_file:\n",
    "            sql_list.append(entry.path)\n",
    "    return sql_list\n",
    "def read_sql(filepath):\n",
    "    with open(filepath, \"r\") as f:\n",
    "        return f.read()\n",
    "def init_nodes(path):\n",
    "    sql_list = get_sql_list(path)\n",
    "    for sql in sql_list:\n",
    "        node_info_dic['name'] = re.search(path + r'/(.+?).sql', sql)[1]\n",
    "        node_info_dic['sql'] = read_sql(sql)\n",
    "        nodes.append(node_info_dic)\n",
    "    print(nodes[:1])\n",
    "init_nodes('data/ga')"
   ]
  },
  {
   "cell_type": "code",
   "execution_count": 12,
   "metadata": {},
   "outputs": [
    {
     "name": "stdout",
     "output_type": "stream",
     "text": [
      "found word:cat\n"
     ]
    }
   ],
   "source": []
  },
  {
   "cell_type": "code",
   "execution_count": null,
   "metadata": {},
   "outputs": [],
   "source": []
  }
 ],
 "metadata": {
  "kernelspec": {
   "display_name": "Python 3",
   "language": "python",
   "name": "python3"
  },
  "language_info": {
   "codemirror_mode": {
    "name": "ipython",
    "version": 3
   },
   "file_extension": ".py",
   "mimetype": "text/x-python",
   "name": "python",
   "nbconvert_exporter": "python",
   "pygments_lexer": "ipython3",
   "version": "3.6.5"
  }
 },
 "nbformat": 4,
 "nbformat_minor": 2
}
