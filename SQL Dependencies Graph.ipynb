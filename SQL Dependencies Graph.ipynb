{
 "cells": [
  {
   "cell_type": "code",
   "execution_count": 6,
   "metadata": {},
   "outputs": [
    {
     "name": "stdout",
     "output_type": "stream",
     "text": [
      "data/ga consumes 82929 bytes in 30\n"
     ]
    }
   ],
   "source": [
    "#Use os.walk to traverse a folder\n",
    "import os\n",
    "from os.path import join, getsize\n",
    "\n",
    "def pywalker(path):\n",
    "    for dirpath, dirname, filenames in os.walk(path):\n",
    "        print(dirpath, \"consumes\", end=\" \")\n",
    "        print(sum(getsize(join(dirpath, file)) for file in filenames), end=\" \")\n",
    "        print(\"bytes in\", len(filenames))\n",
    "pywalker('data/ga')"
   ]
  },
  {
   "cell_type": "code",
   "execution_count": null,
   "metadata": {},
   "outputs": [],
   "source": []
  }
 ],
 "metadata": {
  "kernelspec": {
   "display_name": "Python 3",
   "language": "python",
   "name": "python3"
  },
  "language_info": {
   "codemirror_mode": {
    "name": "ipython",
    "version": 3
   },
   "file_extension": ".py",
   "mimetype": "text/x-python",
   "name": "python",
   "nbconvert_exporter": "python",
   "pygments_lexer": "ipython3",
   "version": "3.6.5"
  }
 },
 "nbformat": 4,
 "nbformat_minor": 2
}
