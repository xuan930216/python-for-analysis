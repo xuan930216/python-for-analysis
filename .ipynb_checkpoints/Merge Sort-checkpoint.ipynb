{
 "cells": [
  {
   "cell_type": "code",
   "execution_count": 26,
   "metadata": {},
   "outputs": [],
   "source": [
    "def merge_sort(test_list):\n",
    "    if len(test_list) > 1:\n",
    "        middle = len(test_list) //2\n",
    "        leftList = test_list[: middle]\n",
    "        rightList = test_list[middle:]\n",
    "        merge_sort(leftList)\n",
    "        merge_sort(rightList)\n",
    "        i, j, k = 0,0,0\n",
    "        while (i < len(leftList) and j < len(rightList)):\n",
    "            if leftList[i] < rightList[j]:\n",
    "                test_list[k] = leftList[i]\n",
    "                i+=1\n",
    "                k+=1\n",
    "            else:\n",
    "                test_list[k] = rightList[j]\n",
    "                j+=1\n",
    "                k+=1\n",
    "        while i<len(leftList):\n",
    "            test_list[k] = leftList[i]\n",
    "            i+=1\n",
    "            k+=1\n",
    "        while j < len(rightList):\n",
    "            test_list[k] = rightList[j]\n",
    "            j+=1\n",
    "            k+=1\n",
    "# Code to print the list \n",
    "def printList(arr): \n",
    "    for i in range(len(arr)):        \n",
    "        print(arr[i],end=\" \")\n"
   ]
  },
  {
   "cell_type": "code",
   "execution_count": 27,
   "metadata": {},
   "outputs": [
    {
     "name": "stdout",
     "output_type": "stream",
     "text": [
      "21 4 1 3 9 20 25 1 3 4 9 20 21 25 "
     ]
    }
   ],
   "source": [
    "test_list1 = [21,4,1,3,9,20,25]\n",
    "printList(test_list1)\n",
    "merge_sort(test_list1)\n",
    "printList(test_list1)"
   ]
  }
 ],
 "metadata": {
  "kernelspec": {
   "display_name": "Python 3",
   "language": "python",
   "name": "python3"
  },
  "language_info": {
   "codemirror_mode": {
    "name": "ipython",
    "version": 3
   },
   "file_extension": ".py",
   "mimetype": "text/x-python",
   "name": "python",
   "nbconvert_exporter": "python",
   "pygments_lexer": "ipython3",
   "version": "3.6.5"
  }
 },
 "nbformat": 4,
 "nbformat_minor": 2
}
