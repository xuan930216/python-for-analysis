{
 "cells": [
  {
   "cell_type": "markdown",
   "metadata": {},
   "source": [
    "### Binary search tree"
   ]
  },
  {
   "cell_type": "markdown",
   "metadata": {},
   "source": [
    "#### create a node"
   ]
  },
  {
   "cell_type": "code",
   "execution_count": 101,
   "metadata": {},
   "outputs": [],
   "source": [
    "class TreeNode:\n",
    "    def __init__(self, key, value, left = None, right = None, parent = None):\n",
    "        self.key = key\n",
    "        self.payload = value\n",
    "        self.left = left\n",
    "        self.right = right\n",
    "        self.parent = parent\n",
    "    def hasLeftChild(self):\n",
    "        return self.left\n",
    "    def hasRightChild(self):\n",
    "        return self.right\n",
    "    def isLeaf(self):\n",
    "        return not (self.left or self.right)\n",
    "    def hasBothChild(self):\n",
    "        return self.left and self.right\n",
    "    def isLeftChild(self):\n",
    "        return self.parent and self.parent.left == self\n",
    "    def isRightChild(self):\n",
    "        return self.parent and self.parent.right == self"
   ]
  },
  {
   "cell_type": "markdown",
   "metadata": {},
   "source": [
    "#### create binary search tree"
   ]
  },
  {
   "cell_type": "code",
   "execution_count": 106,
   "metadata": {},
   "outputs": [],
   "source": [
    "class BinarySearchTree:\n",
    "    def __init__(self):\n",
    "        self.root = None\n",
    "        self.size = 0\n",
    "    def put(self, key, value):\n",
    "        if self.root:\n",
    "            self._put(key, value, self.root)\n",
    "        else:\n",
    "            self.root = TreeNode(key, value)\n",
    "        self.size = self.size + 1\n",
    "    def _put(self, key, value, currentNode):\n",
    "        if key < currentNode.key:\n",
    "            if currentNode.hasLeftChild():\n",
    "                self._put(key, value, currentNode.left)\n",
    "            else:\n",
    "                currentNode.left = TreeNode(key, value, parent= currentNode)\n",
    "        elif key > currentNode.key:\n",
    "            if currentNode.hasRightChild():\n",
    "                self._put(key, value, currentNode.right)\n",
    "            else:\n",
    "                currentNode.right = TreeNode(key, value, parent = currentNode)\n",
    "    #with the put method we can easily overload the [] operator for assignment by having the __setitem__ \n",
    "    #methpod call put\n",
    "    def __setitem__(self, k, v):\n",
    "        self.put(k,v)\n",
    "    def get(self, key):\n",
    "        if self.root:\n",
    "            res = self._get(key, self.root)\n",
    "            if res:\n",
    "                return res.payload\n",
    "            else:\n",
    "                return None\n",
    "        else:\n",
    "            return None\n",
    "    def _get(self, key, currentNode):\n",
    "        if not currentNode:\n",
    "            return None\n",
    "        elif currentNode.key == key:\n",
    "            return currentNode\n",
    "        elif key < currentNode.key:\n",
    "            return self._get(key, currentNode.left)\n",
    "        else:\n",
    "            return self._get(key, currentNode.right)\n",
    "    def delete(self, key):\n",
    "        if self.size > 1:\n",
    "            nodeToRemove = self._get(key, self.root)\n",
    "            if nodeToRemove:\n",
    "                self.remove(nodeToRemove)\n",
    "                self.size = self.size -1\n",
    "            else:\n",
    "                raise KeyError('Error, key is not in the tree')\n",
    "        elif self.size == 1 and self.root.key == key:\n",
    "            self.root = None\n",
    "            self.size = self.size -1\n",
    "        else:\n",
    "            raise KeyError('Error, key not in the tree')\n",
    "    def remove(self, currentNode):\n",
    "        if currentNode.isLeaf():\n",
    "            if currentNode == currentNode.parent.left:\n",
    "                currentNode.parent.left = None\n",
    "            if currentNode == currentNode.parent.right:\n",
    "                currentNode.parent.right = None\n",
    "        elif currentNode.hasBothChild():\n",
    "            def findSuccessor(currentNode):\n",
    "                succ = findMin(currentNode.right)\n",
    "                return succ\n",
    "            def findMin(element):\n",
    "                current = element\n",
    "                while current.hasLeftChild():\n",
    "                    current = current.left\n",
    "                return current\n",
    "            succ = findSuccessor(currentNode)\n",
    "            currentNode.key = succ.key\n",
    "            currentNode.payload = succ.payload\n",
    "            succ.parent.left = succ.right \n",
    "        else:\n",
    "            if currentNode.hasLeftChild():\n",
    "                if currentNode.isLeftChild():\n",
    "                    currentNode.left.parent = currentNode.parent\n",
    "                    currentNode.parent.left = currentNode.left\n",
    "                else:\n",
    "                    currentNode.left.parent = currentNode.parent\n",
    "                    currentNode.parent.right = currentNode.left\n",
    "            else:\n",
    "                if currentNode.isLeftChild():\n",
    "                    currentNode.right.parent = currentNode.parent\n",
    "                    currentNode.parent.left = currentNode.right\n",
    "                else:\n",
    "                    currentNode.right.parent = currentNode.parent\n",
    "                    currentNode.parent.right = currentNode.right\n",
    "                \n",
    "                    \n",
    "\n",
    "# using __getitem__ , we can get elements as dictinary \n",
    "    def __getitem__(self, key):\n",
    "        return self.get(key)\n",
    "    #using get we can implement the in operator by writing a __contains__ method \n",
    "    def __contains__(self, key):\n",
    "        if self._get(key, self.root):\n",
    "            return True\n",
    "        else:\n",
    "            return False"
   ]
  },
  {
   "cell_type": "code",
   "execution_count": 107,
   "metadata": {},
   "outputs": [],
   "source": [
    "myTree = BinarySearchTree()\n",
    "myTree[3]=\"red\"\n",
    "myTree[4]=\"blue\"\n",
    "myTree[2] = \"at\""
   ]
  },
  {
   "cell_type": "code",
   "execution_count": 54,
   "metadata": {},
   "outputs": [
    {
     "name": "stdout",
     "output_type": "stream",
     "text": [
      "at\n"
     ]
    }
   ],
   "source": [
    "print(myTree[2])"
   ]
  },
  {
   "cell_type": "code",
   "execution_count": 55,
   "metadata": {},
   "outputs": [
    {
     "name": "stdout",
     "output_type": "stream",
     "text": [
      "True\n"
     ]
    }
   ],
   "source": [
    "print(2 in myTree)"
   ]
  },
  {
   "cell_type": "code",
   "execution_count": 56,
   "metadata": {},
   "outputs": [
    {
     "name": "stdout",
     "output_type": "stream",
     "text": [
      "3\n"
     ]
    }
   ],
   "source": [
    "print(myTree.size)"
   ]
  },
  {
   "cell_type": "code",
   "execution_count": 108,
   "metadata": {},
   "outputs": [
    {
     "name": "stdout",
     "output_type": "stream",
     "text": [
      "None\n"
     ]
    }
   ],
   "source": [
    "print(myTree.delete(3))"
   ]
  },
  {
   "cell_type": "code",
   "execution_count": 109,
   "metadata": {},
   "outputs": [
    {
     "name": "stdout",
     "output_type": "stream",
     "text": [
      "2\n"
     ]
    }
   ],
   "source": [
    "print(myTree.size)"
   ]
  },
  {
   "cell_type": "code",
   "execution_count": null,
   "metadata": {},
   "outputs": [],
   "source": []
  }
 ],
 "metadata": {
  "kernelspec": {
   "display_name": "Python 3",
   "language": "python",
   "name": "python3"
  },
  "language_info": {
   "codemirror_mode": {
    "name": "ipython",
    "version": 3
   },
   "file_extension": ".py",
   "mimetype": "text/x-python",
   "name": "python",
   "nbconvert_exporter": "python",
   "pygments_lexer": "ipython3",
   "version": "3.6.5"
  }
 },
 "nbformat": 4,
 "nbformat_minor": 2
}
