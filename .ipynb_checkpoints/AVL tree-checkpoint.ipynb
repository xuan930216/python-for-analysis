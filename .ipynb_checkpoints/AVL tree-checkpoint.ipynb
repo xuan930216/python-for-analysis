{
 "cells": [
  {
   "cell_type": "code",
   "execution_count": 105,
   "metadata": {},
   "outputs": [],
   "source": [
    "class TreeNode:\n",
    "    def __init__(self, value, left=None, right=None, parent=None):\n",
    "        self.data = value\n",
    "        self.left = left\n",
    "        self.right = right\n",
    "        self.parent = parent\n",
    "        self.balanceFactor = 0\n",
    "    def hasLeftChild(self):\n",
    "        return self.left\n",
    "    def hasRightChild(self):\n",
    "        return self.right\n",
    "    def isLeftChild(self):\n",
    "        return self.parent and self.parent.left == self\n",
    "    def isRightChild(self):\n",
    "        return self.parent and self.parent.right == self"
   ]
  },
  {
   "cell_type": "code",
   "execution_count": 91,
   "metadata": {},
   "outputs": [],
   "source": [
    "## base bonary search tree\n",
    "class AVLTree:\n",
    "    def __init__(self):\n",
    "        self.root = None\n",
    "    def put(self, value):\n",
    "        if self.root:\n",
    "            self._put(value, self.root)\n",
    "        else:\n",
    "            self.root = TreeNode(value)\n",
    "    def _put(self, value, currentNode):\n",
    "        if value < currentNode.data:\n",
    "            if currentNode.hasLeftChild():\n",
    "                self._put(value, currentNode.left)\n",
    "            else:\n",
    "                currentNode.left = TreeNode(value, parent= currentNode)\n",
    "                self.updateBalance(currentNode.left)\n",
    "        elif value > currentNode.data:\n",
    "            if currentNode.hasRightChild():\n",
    "                self._put(value, currentNode.right)\n",
    "            else:\n",
    "                currentNode.right = TreeNode(value, parent = currentNode)\n",
    "    def updateBalance(self, node):\n",
    "        if node.balanceFactor > 1 or node.balanceFactor < -1:\n",
    "            self.rebalance(node)\n",
    "            return\n",
    "        if node.parent != None:\n",
    "            if node.isLeftChild():\n",
    "                node.parent.balanceFactor += 1\n",
    "            elif node.isRightChild():\n",
    "                node.parent.balanceFactor -= 1\n",
    "        if node.parent.balanceFactor != 0:\n",
    "            self.updateBalance(node.parent)"
   ]
  },
  {
   "cell_type": "code",
   "execution_count": 98,
   "metadata": {},
   "outputs": [],
   "source": [
    "def inorder(root):\n",
    "    if root is None:\n",
    "        return\n",
    "    if root.left is not None:\n",
    "        inorder(root.left)\n",
    "    print(root.data)\n",
    "    if root.right is not None:\n",
    "        inorder(root.right)"
   ]
  },
  {
   "cell_type": "code",
   "execution_count": 99,
   "metadata": {},
   "outputs": [],
   "source": [
    "tree_sample = BinarySearchTree()    "
   ]
  },
  {
   "cell_type": "code",
   "execution_count": 100,
   "metadata": {},
   "outputs": [],
   "source": [
    "tree_sample.put(2)"
   ]
  },
  {
   "cell_type": "code",
   "execution_count": 101,
   "metadata": {},
   "outputs": [],
   "source": [
    "tree_sample.put(1)"
   ]
  },
  {
   "cell_type": "code",
   "execution_count": 102,
   "metadata": {},
   "outputs": [],
   "source": [
    "tree_sample.put(5)"
   ]
  },
  {
   "cell_type": "code",
   "execution_count": 103,
   "metadata": {},
   "outputs": [
    {
     "name": "stdout",
     "output_type": "stream",
     "text": [
      "1\n",
      "2\n",
      "5\n"
     ]
    }
   ],
   "source": [
    "inorder(tree_sample.root)"
   ]
  },
  {
   "cell_type": "code",
   "execution_count": null,
   "metadata": {},
   "outputs": [],
   "source": []
  },
  {
   "cell_type": "code",
   "execution_count": null,
   "metadata": {},
   "outputs": [],
   "source": []
  }
 ],
 "metadata": {
  "kernelspec": {
   "display_name": "Python 3",
   "language": "python",
   "name": "python3"
  },
  "language_info": {
   "codemirror_mode": {
    "name": "ipython",
    "version": 3
   },
   "file_extension": ".py",
   "mimetype": "text/x-python",
   "name": "python",
   "nbconvert_exporter": "python",
   "pygments_lexer": "ipython3",
   "version": "3.6.5"
  }
 },
 "nbformat": 4,
 "nbformat_minor": 2
}
