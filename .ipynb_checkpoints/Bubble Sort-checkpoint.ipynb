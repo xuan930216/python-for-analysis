{
 "cells": [
  {
   "cell_type": "code",
   "execution_count": 10,
   "metadata": {},
   "outputs": [],
   "source": [
    "def bubble_sort(test_list):\n",
    "    for i in range(1, len(test_list)-1):\n",
    "        for j in range(len(test_list)-1):\n",
    "            if test_list[j] > test_list[j+1]:\n",
    "                temp = test_list[j]\n",
    "                test_list[j] = test_list[j+1]\n",
    "                test_list[j+1] = temp\n",
    "    print(test_list)"
   ]
  },
  {
   "cell_type": "code",
   "execution_count": 12,
   "metadata": {},
   "outputs": [
    {
     "name": "stdout",
     "output_type": "stream",
     "text": [
      "[1, 3, 4, 6, 9, 14, 20, 21, 21]\n"
     ]
    }
   ],
   "source": [
    "test_list1 = [21,4,1,3,9,20,6,21,14]\n",
    "bubble_sort(test_list1)"
   ]
  },
  {
   "cell_type": "code",
   "execution_count": null,
   "metadata": {},
   "outputs": [],
   "source": []
  }
 ],
 "metadata": {
  "kernelspec": {
   "display_name": "Python 3",
   "language": "python",
   "name": "python3"
  },
  "language_info": {
   "codemirror_mode": {
    "name": "ipython",
    "version": 3
   },
   "file_extension": ".py",
   "mimetype": "text/x-python",
   "name": "python",
   "nbconvert_exporter": "python",
   "pygments_lexer": "ipython3",
   "version": "3.6.5"
  }
 },
 "nbformat": 4,
 "nbformat_minor": 2
}
