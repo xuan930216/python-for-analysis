{
 "cells": [
  {
   "cell_type": "markdown",
   "metadata": {},
   "source": [
    "### Binary search tree"
   ]
  },
  {
   "cell_type": "markdown",
   "metadata": {},
   "source": [
    "#### create a node"
   ]
  },
  {
   "cell_type": "code",
   "execution_count": 24,
   "metadata": {},
   "outputs": [],
   "source": [
    "class TreeNode:\n",
    "    def __init__(self, key, value, left = None, right = None, parent = None):\n",
    "        self.key = key\n",
    "        self.payload = value\n",
    "        self.left = left\n",
    "        self.right = right\n",
    "        self.parent = parent\n",
    "    def hasLeftChild(self):\n",
    "        return self.left\n",
    "    def hasRightChild(self):\n",
    "        return self.right"
   ]
  },
  {
   "cell_type": "markdown",
   "metadata": {},
   "source": [
    "#### create binary search tree"
   ]
  },
  {
   "cell_type": "code",
   "execution_count": 25,
   "metadata": {},
   "outputs": [],
   "source": [
    "class BinarySearchTree:\n",
    "    def __init__(self):\n",
    "        self.root = None\n",
    "        self.size = 0\n",
    "    def put(self, key, value):\n",
    "        if self.root:\n",
    "            self._put(key, value, self.root)\n",
    "        else:\n",
    "            self.root = TreeNode(key, value)\n",
    "        self.size = self.size + 1\n",
    "    def _put(self, key, value, currentNode):\n",
    "        if key < currentNode.key:\n",
    "            if currentNode.hasLeftChild():\n",
    "                self._put(key, value, currentNode.left)\n",
    "            else:\n",
    "                currentNode.left = TreeNode(key, value, parent= currentNode)\n",
    "        elif key > currentNode.key:\n",
    "            if currentNode.hasRightChild():\n",
    "                self._put(key, value, currentNode.right)\n",
    "            else:\n",
    "                currentNode.right = TreeNode(key, value, parent = currentNode)\n",
    "    #with the put method we can easily overload the [] operator for assignment by having the __setitem__ \n",
    "    #methpod call put\n",
    "    def __setitem__(self, k, v):\n",
    "        self.put(k,v)\n",
    "    def get(self, key):\n",
    "        if self.root:\n",
    "            res = self._get(key, self.root)\n",
    "            if res:\n",
    "                return res.payload\n",
    "            else:\n",
    "                return None\n",
    "        else:\n",
    "            return None\n",
    "    def _get(self, key, currentNode):\n",
    "        if not currentNode:\n",
    "            return None\n",
    "        elif currentNode.key == key:\n",
    "            return currentNode\n",
    "        elif key < currentNode.key:\n",
    "            return self._get(key, currentNode.left)\n",
    "        else:\n",
    "            return self._get(key, currentNode.right)\n",
    "# using __getitem__ , we can get elements as dictinary \n",
    "    def __getitem__(self, key):\n",
    "        return self.get(key)\n",
    "    #using get we can implement the in operator by writing a __contains__ method \n",
    "    def __contains__(self, key):\n",
    "        if self._get(key, self.root)"
   ]
  },
  {
   "cell_type": "code",
   "execution_count": 26,
   "metadata": {},
   "outputs": [],
   "source": [
    "myTree = BinarySearchTree()\n",
    "myTree[3]=\"red\"\n",
    "myTree[4]=\"blue\"\n",
    "myTree[2] = \"at\""
   ]
  },
  {
   "cell_type": "code",
   "execution_count": 29,
   "metadata": {},
   "outputs": [
    {
     "name": "stdout",
     "output_type": "stream",
     "text": [
      "None\n"
     ]
    }
   ],
   "source": [
    "print(myTree[10])"
   ]
  },
  {
   "cell_type": "code",
   "execution_count": null,
   "metadata": {},
   "outputs": [],
   "source": []
  }
 ],
 "metadata": {
  "kernelspec": {
   "display_name": "Python 3",
   "language": "python",
   "name": "python3"
  },
  "language_info": {
   "codemirror_mode": {
    "name": "ipython",
    "version": 3
   },
   "file_extension": ".py",
   "mimetype": "text/x-python",
   "name": "python",
   "nbconvert_exporter": "python",
   "pygments_lexer": "ipython3",
   "version": "3.6.5"
  }
 },
 "nbformat": 4,
 "nbformat_minor": 2
}
