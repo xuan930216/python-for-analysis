{
 "cells": [
  {
   "cell_type": "markdown",
   "metadata": {},
   "source": [
    "### Binary search tree"
   ]
  },
  {
   "cell_type": "markdown",
   "metadata": {},
   "source": [
    "#### create a node"
   ]
  },
  {
   "cell_type": "code",
   "execution_count": 3,
   "metadata": {},
   "outputs": [],
   "source": [
    "class TreeNode:\n",
    "    def __init__(self, key, value, left = None, right = None, parent = None):\n",
    "        self.key = key\n",
    "        self.payload = value\n",
    "        self.left = left\n",
    "        self.right = right\n",
    "        self.parent = parent\n",
    "    def hasLeftChild(self):\n",
    "        return self.left\n",
    "    def hasRightChild(self):\n",
    "        return self.right"
   ]
  },
  {
   "cell_type": "markdown",
   "metadata": {},
   "source": [
    "#### create binary search tree"
   ]
  },
  {
   "cell_type": "code",
   "execution_count": 2,
   "metadata": {},
   "outputs": [],
   "source": [
    "class BinarySearchTree:\n",
    "    def __init__(self):\n",
    "        self.root = None\n",
    "        self.size = 0\n",
    "    def put(self, key, value):\n",
    "        if self.root:\n",
    "            self._put(key, value, self.root)\n",
    "        else:\n",
    "            self.root = TreeNode(key, value)\n",
    "        self.size = self.size + 1\n",
    "    def _put(self, key, value, currentNode):\n",
    "        if key < currentNode.key:\n",
    "            if currentNonde.hasLeftChild():\n",
    "                self._put(key, value, currentNode.left)\n",
    "            else:\n",
    "                currentNonde.left = TreeNode(key, value, parent= currentNode)\n",
    "        elif key > currentNode.key:\n",
    "            if currentNonde.hasRightChild():\n",
    "                self._put(key, value, currentNode.right)\n",
    "            else:\n",
    "                current.right = TreeNode(key, value, parent = currentNode)\n",
    "    #with the put method we can easily overload the [] operator for assignment by having the __setitem__ methpod call put\n",
    "    def __setitem__(self, k, v):\n",
    "        self.put(k,v)"
   ]
  },
  {
   "cell_type": "code",
   "execution_count": null,
   "metadata": {},
   "outputs": [],
   "source": []
  }
 ],
 "metadata": {
  "kernelspec": {
   "display_name": "Python 3",
   "language": "python",
   "name": "python3"
  },
  "language_info": {
   "codemirror_mode": {
    "name": "ipython",
    "version": 3
   },
   "file_extension": ".py",
   "mimetype": "text/x-python",
   "name": "python",
   "nbconvert_exporter": "python",
   "pygments_lexer": "ipython3",
   "version": "3.6.5"
  }
 },
 "nbformat": 4,
 "nbformat_minor": 2
}
