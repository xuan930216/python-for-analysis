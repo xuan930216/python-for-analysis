{
 "cells": [
  {
   "cell_type": "markdown",
   "metadata": {},
   "source": [
    "### Binary search tree"
   ]
  },
  {
   "cell_type": "markdown",
   "metadata": {},
   "source": [
    "#### create a node"
   ]
  },
  {
   "cell_type": "code",
   "execution_count": 57,
   "metadata": {},
   "outputs": [],
   "source": [
    "class TreeNode:\n",
    "    def __init__(self, key, value, left = None, right = None, parent = None):\n",
    "        self.key = key\n",
    "        self.payload = value\n",
    "        self.left = left\n",
    "        self.right = right\n",
    "        self.parent = parent\n",
    "    def hasLeftChild(self):\n",
    "        return self.left\n",
    "    def hasRightChild(self):\n",
    "        return self.right\n",
    "    def isLeaf(self):\n",
    "        return not (self.left or self.right)\n",
    "    def hasBothChild(self):\n",
    "        return self.left and self.right\n",
    "    def isLeftChild(self):\n",
    "        return self.parent and self.parent.left == self\n",
    "    def isRightChild(self):\n",
    "        return self.parent and self.parent.right == self\n",
    "    def num_children(self):\n",
    "        num_children = 0\n",
    "        if self.left != None:\n",
    "            num_children +=1\n",
    "        if self.right != None:\n",
    "            num_children +=1\n",
    "        return num_children"
   ]
  },
  {
   "cell_type": "markdown",
   "metadata": {},
   "source": [
    "#### create binary search tree"
   ]
  },
  {
   "cell_type": "code",
   "execution_count": 84,
   "metadata": {},
   "outputs": [],
   "source": [
    "class BinarySearchTree:\n",
    "    def __init__(self):\n",
    "        self.root = None\n",
    "        self.size = 0\n",
    "    def put(self, key, value):\n",
    "        if self.root:\n",
    "            self._put(key, value, self.root)\n",
    "        else:\n",
    "            self.root = TreeNode(key, value)\n",
    "        self.size = self.size + 1\n",
    "    def _put(self, key, value, currentNode):\n",
    "        if key < currentNode.key:\n",
    "            if currentNode.hasLeftChild():\n",
    "                self._put(key, value, currentNode.left)\n",
    "            else:\n",
    "                currentNode.left = TreeNode(key, value, parent= currentNode)\n",
    "        elif key > currentNode.key:\n",
    "            if currentNode.hasRightChild():\n",
    "                self._put(key, value, currentNode.right)\n",
    "            else:\n",
    "                currentNode.right = TreeNode(key, value, parent = currentNode)\n",
    "    #with the put method we can easily overload the [] operator for assignment by having the __setitem__ \n",
    "    #methpod call put\n",
    "    def __setitem__(self, k, v):\n",
    "        self.put(k,v)\n",
    "    def get(self, key):\n",
    "        if self.root:\n",
    "            res = self._get(key, self.root)\n",
    "            if res:\n",
    "                return res.payload\n",
    "            else:\n",
    "                return None\n",
    "        else:\n",
    "            return None\n",
    "    def _get(self, key, currentNode):\n",
    "        if not currentNode:\n",
    "            return None\n",
    "        elif currentNode.key == key:\n",
    "            return currentNode\n",
    "        elif key < currentNode.key:\n",
    "            return self._get(key, currentNode.left)\n",
    "        else:\n",
    "            return self._get(key, currentNode.right)\n",
    "    def delete(self, key):\n",
    "        if self.size > 1:\n",
    "            nodeToRemove = self._get(key, self.root)\n",
    "            if nodeToRemove:\n",
    "                self.remove(nodeToRemove)\n",
    "                self.size = self.size -1\n",
    "            else:\n",
    "                raise KeyError('Error, key is not in the tree')\n",
    "        elif self.size == 1 and self.root.key == key:\n",
    "            self.root = None\n",
    "            self.size = self.size -1\n",
    "        else:\n",
    "            raise KeyError('Error, key not in the tree')\n",
    "    def remove(self, currentNode):\n",
    "        node_children = currentNode.num_children()\n",
    "        if node_children == 0:\n",
    "            if currentNode.isLeftChild():\n",
    "                currentNode.parent.left = None\n",
    "            else:\n",
    "                currentNode.parent.right = None\n",
    "        if node_children == 1:\n",
    "            #get the single child node\n",
    "            if currentNode.left != None:\n",
    "                child = currentNode.left\n",
    "            else:\n",
    "                child = currentNode.right\n",
    "            # promote the node\n",
    "            if currentNode.isLeftChild():\n",
    "                currentNode.parent.left = child\n",
    "            else:\n",
    "                currentNode.parent.right = child\n",
    "            #change the child pointer\n",
    "            child.parent = currentNode.parent\n",
    "            \n",
    "        if node_children == 2:\n",
    "            # get the inorder successor of the deleted node\n",
    "            def findMin(node):\n",
    "                current = node\n",
    "                while current.left:\n",
    "                    current = current.left\n",
    "                return current\n",
    "            successor = findMin(currentNode.right)\n",
    "            #copy the inorder successor's value to the node formerly\n",
    "            currentNode.payload = successor.payload\n",
    "            currentNode.key = successor.key\n",
    "            #delete the successor\n",
    "            self.remove(successor)\n",
    "# using __getitem__ , we can get elements as dictinary \n",
    "    def __getitem__(self, key):\n",
    "        return self.get(key)\n",
    "    #using get we can implement the in operator by writing a __contains__ method \n",
    "    def __contains__(self, key):\n",
    "        if self._get(key, self.root):\n",
    "            return True\n",
    "        else:\n",
    "            return False\n",
    "def inorder(root):\n",
    "    if root is None:\n",
    "        return\n",
    "    if root.left is not None:\n",
    "        inorder(root.left)\n",
    "    print(root.key)\n",
    "    if root.right is not None:\n",
    "        inorder(root.right)"
   ]
  },
  {
   "cell_type": "code",
   "execution_count": 85,
   "metadata": {},
   "outputs": [],
   "source": [
    "myTree = BinarySearchTree()\n",
    "myTree[5]=\"red\"\n",
    "myTree[4]=\"blue\"\n",
    "myTree[6] =\"at\"\n",
    "myTree[10] = \"ten\"\n",
    "myTree[9]=\"nine\"\n",
    "myTree[11]=\"eleven\""
   ]
  },
  {
   "cell_type": "code",
   "execution_count": 86,
   "metadata": {},
   "outputs": [
    {
     "name": "stdout",
     "output_type": "stream",
     "text": [
      "4\n",
      "5\n",
      "6\n",
      "9\n",
      "10\n",
      "11\n"
     ]
    }
   ],
   "source": [
    "inorder(myTree.root)"
   ]
  },
  {
   "cell_type": "code",
   "execution_count": 87,
   "metadata": {},
   "outputs": [],
   "source": [
    "myTree.delete(5)"
   ]
  },
  {
   "cell_type": "code",
   "execution_count": 88,
   "metadata": {},
   "outputs": [
    {
     "name": "stdout",
     "output_type": "stream",
     "text": [
      "4\n",
      "6\n",
      "9\n",
      "10\n",
      "11\n"
     ]
    }
   ],
   "source": [
    "inorder(myTree.root)"
   ]
  },
  {
   "cell_type": "code",
   "execution_count": 89,
   "metadata": {},
   "outputs": [],
   "source": [
    "myTree.delete(4)"
   ]
  },
  {
   "cell_type": "code",
   "execution_count": 90,
   "metadata": {},
   "outputs": [
    {
     "name": "stdout",
     "output_type": "stream",
     "text": [
      "6\n",
      "9\n",
      "10\n",
      "11\n"
     ]
    }
   ],
   "source": [
    "inorder(myTree.root)"
   ]
  },
  {
   "cell_type": "code",
   "execution_count": null,
   "metadata": {},
   "outputs": [],
   "source": []
  }
 ],
 "metadata": {
  "kernelspec": {
   "display_name": "Python 3",
   "language": "python",
   "name": "python3"
  },
  "language_info": {
   "codemirror_mode": {
    "name": "ipython",
    "version": 3
   },
   "file_extension": ".py",
   "mimetype": "text/x-python",
   "name": "python",
   "nbconvert_exporter": "python",
   "pygments_lexer": "ipython3",
   "version": "3.6.5"
  }
 },
 "nbformat": 4,
 "nbformat_minor": 2
}
