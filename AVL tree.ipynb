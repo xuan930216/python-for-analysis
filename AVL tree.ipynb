{
 "cells": [
  {
   "cell_type": "code",
   "execution_count": 81,
   "metadata": {},
   "outputs": [],
   "source": [
    "class TreeNode:\n",
    "    def __init__(self, value, left=None, right=None, parent=None):\n",
    "        self.data = value\n",
    "        self.left = left\n",
    "        self.right = right\n",
    "        self.parent = parent\n",
    "        self.balanceFactor = 0\n",
    "    def hasLeftChild(self):\n",
    "        return self.left\n",
    "    def hasRightChild(self):\n",
    "        return self.right\n",
    "    def isLeftChild(self):\n",
    "        return self.parent and self.parent.left == self\n",
    "    def isRightChild(self):\n",
    "        return self.parent and self.parent.right == self"
   ]
  },
  {
   "cell_type": "code",
   "execution_count": 124,
   "metadata": {},
   "outputs": [],
   "source": [
    "## base bonary search tree\n",
    "class AVLTree:\n",
    "    def __init__(self):\n",
    "        self.root = None\n",
    "    def put(self, value):\n",
    "        if self.root:\n",
    "            self._put(value, self.root)\n",
    "        else:\n",
    "            self.root = TreeNode(value)\n",
    "    def _put(self, value, currentNode):\n",
    "        if value < currentNode.data:\n",
    "            if currentNode.hasLeftChild():\n",
    "                self._put(value, currentNode.left)\n",
    "            else:\n",
    "                currentNode.left = TreeNode(value, parent= currentNode)\n",
    "                self.updateBalance(currentNode.left)\n",
    "        elif value > currentNode.data:\n",
    "            if currentNode.hasRightChild():\n",
    "                self._put(value, currentNode.right)\n",
    "            else:\n",
    "                currentNode.right = TreeNode(value, parent = currentNode)\n",
    "                self.updateBalance(currentNode.right)\n",
    "    def updateBalance(self, node):\n",
    "        if node.balanceFactor > 1 or node.balanceFactor < -1:\n",
    "            self.rebalance(node)\n",
    "            return\n",
    "        if node.parent != None:\n",
    "            if node.isLeftChild():\n",
    "                node.parent.balanceFactor += 1\n",
    "            elif node.isRightChild():\n",
    "                node.parent.balanceFactor -= 1\n",
    "            if node.parent.balanceFactor != 0:\n",
    "                self.updateBalance(node.parent)\n",
    "    def rebalance(self, node):\n",
    "        if node.balanceFactor < 0:\n",
    "            #right heavy\n",
    "            if node.right.balanceFactor > 0:\n",
    "                self.right_rotate(node.right)\n",
    "                self.left_rotate(node)\n",
    "                pass\n",
    "            else:\n",
    "                self.left_rotate(node)\n",
    "        elif node.balanceFactor > 0:\n",
    "            #left heavy\n",
    "            if node.left.balanceFactor < 0:\n",
    "                self.left_rotate(node.left)\n",
    "                self.right_rotate(node)\n",
    "            else:\n",
    "                self.right_rotate(node)\n",
    "    def left_rotate(self, z):\n",
    "        sub_root = z.parent\n",
    "        y = z.right\n",
    "        t2 = y.left\n",
    "        #rotate old root\n",
    "        y.left = z\n",
    "        z.parent = y\n",
    "        #rotate x\n",
    "        z.right = t2\n",
    "        if t2 != None:\n",
    "            t2.parent = z\n",
    "        #adjust the parent\n",
    "        y.parent = sub_root\n",
    "        if y.parent == None:\n",
    "            self.root = y\n",
    "        else:\n",
    "            if y.parent.left == z:\n",
    "                y.parent.left = y\n",
    "            else:\n",
    "                y.parent.right = y\n",
    "        #adjust the balanceFactor\n",
    "        z.balanceFactor = z.balanceFactor + 1 - min(y.balanceFactor, 0)\n",
    "        y.balanceFactor = y.balanceFactor + 1 + max(z.balanceFactor, 0)\n",
    "    def right_rotate(self, z):\n",
    "        sub_root = z.parent\n",
    "        y = z.left\n",
    "        t3 = y.right\n",
    "        #rotate\n",
    "        y.right = z\n",
    "        z.parent = y\n",
    "        z.left = t3\n",
    "        if t3 != None:\n",
    "            t3.parent = z\n",
    "        #change parent\n",
    "        y.parent = sub_toot\n",
    "        if y.parent == None:\n",
    "            self.root = y\n",
    "        else:\n",
    "            if y.parent.left == z:\n",
    "                y.parent.left == y\n",
    "            else:\n",
    "                y.parent.right = y\n",
    "        #adjust the balanceFactor\n",
    "        z.balanceFactor = z.balanceFactor - max(y.balanceFactor, 0) -1\n",
    "        y.balanceFactor = y.balanceFactor + min(0, z.balanceFactor) - 1\n",
    "        \n",
    "    def print_tree(self):\n",
    "        if self.root != None:\n",
    "            self._print_tree(self.root)\n",
    "    def _print_tree(self, currentNode):\n",
    "        if currentNode != None:\n",
    "            self._print_tree(currentNode.left)\n",
    "            print(\"%s, h=%d\"%(str(currentNode.data),currentNode.balanceFactor))\n",
    "            self._print_tree(currentNode.right)\n",
    "    def preOrder(self, root): \n",
    "\n",
    "        if not root: \n",
    "            return\n",
    "\n",
    "        print(\"{0}\".format(root.data), end=\"\") \n",
    "        self.preOrder(root.left) \n",
    "        self.preOrder(root.right) \n",
    "   "
   ]
  },
  {
   "cell_type": "code",
   "execution_count": 125,
   "metadata": {},
   "outputs": [],
   "source": [
    "tree_sample = AVLTree()   "
   ]
  },
  {
   "cell_type": "code",
   "execution_count": 126,
   "metadata": {},
   "outputs": [],
   "source": [
    "for i in range(10):\n",
    "    tree_sample.put(i)"
   ]
  },
  {
   "cell_type": "code",
   "execution_count": 127,
   "metadata": {},
   "outputs": [
    {
     "name": "stdout",
     "output_type": "stream",
     "text": [
      "3102754689"
     ]
    }
   ],
   "source": [
    "tree_sample.preOrder(tree_sample.root)"
   ]
  },
  {
   "cell_type": "code",
   "execution_count": 128,
   "metadata": {},
   "outputs": [
    {
     "name": "stdout",
     "output_type": "stream",
     "text": [
      "0, h=0\n",
      "1, h=0\n",
      "2, h=0\n",
      "3, h=-1\n",
      "4, h=0\n",
      "5, h=0\n",
      "6, h=0\n",
      "7, h=0\n",
      "8, h=-1\n",
      "9, h=0\n"
     ]
    }
   ],
   "source": [
    "tree_sample.print_tree()"
   ]
  },
  {
   "cell_type": "code",
   "execution_count": null,
   "metadata": {},
   "outputs": [],
   "source": []
  },
  {
   "cell_type": "code",
   "execution_count": null,
   "metadata": {},
   "outputs": [],
   "source": []
  }
 ],
 "metadata": {
  "kernelspec": {
   "display_name": "Python 3",
   "language": "python",
   "name": "python3"
  },
  "language_info": {
   "codemirror_mode": {
    "name": "ipython",
    "version": 3
   },
   "file_extension": ".py",
   "mimetype": "text/x-python",
   "name": "python",
   "nbconvert_exporter": "python",
   "pygments_lexer": "ipython3",
   "version": "3.6.5"
  }
 },
 "nbformat": 4,
 "nbformat_minor": 2
}
